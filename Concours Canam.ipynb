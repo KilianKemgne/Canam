{
 "cells": [
  {
   "cell_type": "markdown",
   "id": "0cd614c2",
   "metadata": {},
   "source": [
    "## KILIAN KEMGNE\n",
    "## ENSPY\n",
    "## 5GI"
   ]
  },
  {
   "cell_type": "markdown",
   "id": "24a4dc30",
   "metadata": {},
   "source": [
    "### Importation des bibliothèques"
   ]
  },
  {
   "cell_type": "code",
   "execution_count": 245,
   "id": "9935c58f",
   "metadata": {},
   "outputs": [
    {
     "name": "stdout",
     "output_type": "stream",
     "text": [
      "Collecting package metadata (current_repodata.json): ...working... done\n",
      "Solving environment: ...working... done\n",
      "\n",
      "\n",
      "Note: you may need to restart the kernel to use updated packages.## Package Plan ##\n"
     ]
    },
    {
     "name": "stderr",
     "output_type": "stream",
     "text": [
      "\n",
      "\n",
      "==> WARNING: A newer version of conda exists. <==\n",
      "  current version: 4.10.3\n",
      "  latest version: 23.10.0\n",
      "\n"
     ]
    },
    {
     "name": "stdout",
     "output_type": "stream",
     "text": [
      "\n",
      "\n",
      "  environment location: C:\\Users\\Kilian\\anaconda3\n",
      "\n",
      "  added / updated specs:\n",
      "    - py-xgboost\n",
      "\n",
      "\n",
      "The following packages will be downloaded:\n",
      "\n",
      "    package                    |            build\n",
      "    ---------------------------|-----------------\n",
      "    _py-xgboost-mutex-2.0      |            cpu_0          12 KB  anaconda\n",
      "    libxgboost-1.7.3           |       hd77b12b_0         2.6 MB  anaconda\n",
      "    py-xgboost-1.7.3           |   py39haa95532_0         196 KB  anaconda\n",
      "    ------------------------------------------------------------\n",
      "                                           Total:         2.8 MB\n",
      "\n",
      "The following NEW packages will be INSTALLED:\n",
      "\n",
      "  _py-xgboost-mutex  anaconda/win-64::_py-xgboost-mutex-2.0-cpu_0\n",
      "  libxgboost         anaconda/win-64::libxgboost-1.7.3-hd77b12b_0\n",
      "  py-xgboost         anaconda/win-64::py-xgboost-1.7.3-py39haa95532_0\n",
      "\n",
      "\n",
      "\n",
      "Downloading and Extracting Packages\n",
      "\n",
      "py-xgboost-1.7.3     | 196 KB    |            |   0% \n",
      "py-xgboost-1.7.3     | 196 KB    | 8          |   8% \n",
      "py-xgboost-1.7.3     | 196 KB    | #6         |  16% \n",
      "py-xgboost-1.7.3     | 196 KB    | ####       |  41% \n",
      "py-xgboost-1.7.3     | 196 KB    | #####7     |  57% \n",
      "py-xgboost-1.7.3     | 196 KB    | ########## | 100% \n",
      "py-xgboost-1.7.3     | 196 KB    | ########## | 100% \n",
      "\n",
      "libxgboost-1.7.3     | 2.6 MB    |            |   0% \n",
      "libxgboost-1.7.3     | 2.6 MB    |            |   1% \n",
      "libxgboost-1.7.3     | 2.6 MB    | 2          |   2% \n",
      "libxgboost-1.7.3     | 2.6 MB    | 4          |   4% \n",
      "libxgboost-1.7.3     | 2.6 MB    | #3         |  14% \n",
      "libxgboost-1.7.3     | 2.6 MB    | #6         |  16% \n",
      "libxgboost-1.7.3     | 2.6 MB    | #7         |  18% \n",
      "libxgboost-1.7.3     | 2.6 MB    | ##3        |  24% \n",
      "libxgboost-1.7.3     | 2.6 MB    | ###1       |  31% \n",
      "libxgboost-1.7.3     | 2.6 MB    | ###9       |  40% \n",
      "libxgboost-1.7.3     | 2.6 MB    | ####7      |  48% \n",
      "libxgboost-1.7.3     | 2.6 MB    | #####5     |  56% \n",
      "libxgboost-1.7.3     | 2.6 MB    | ######5    |  66% \n",
      "libxgboost-1.7.3     | 2.6 MB    | #######1   |  72% \n",
      "libxgboost-1.7.3     | 2.6 MB    | #######6   |  77% \n",
      "libxgboost-1.7.3     | 2.6 MB    | ########   |  81% \n",
      "libxgboost-1.7.3     | 2.6 MB    | ########4  |  84% \n",
      "libxgboost-1.7.3     | 2.6 MB    | ########7  |  87% \n",
      "libxgboost-1.7.3     | 2.6 MB    | ########9  |  90% \n",
      "libxgboost-1.7.3     | 2.6 MB    | #########4 |  94% \n",
      "libxgboost-1.7.3     | 2.6 MB    | ########## | 100% \n",
      "libxgboost-1.7.3     | 2.6 MB    | ########## | 100% \n",
      "\n",
      "_py-xgboost-mutex-2. | 12 KB     |            |   0% \n",
      "_py-xgboost-mutex-2. | 12 KB     | ########## | 100% \n",
      "_py-xgboost-mutex-2. | 12 KB     | ########## | 100% \n",
      "Preparing transaction: ...working... done\n",
      "Verifying transaction: ...working... done\n",
      "Executing transaction: ...working... done\n"
     ]
    },
    {
     "name": "stderr",
     "output_type": "stream",
     "text": [
      "Please update conda by running\n",
      "\n",
      "    $ conda update -n base -c defaults conda\n",
      "\n",
      "\n"
     ]
    }
   ],
   "source": [
    "conda install -c anaconda py-xgboost"
   ]
  },
  {
   "cell_type": "code",
   "execution_count": 168,
   "id": "3ba3d7a6",
   "metadata": {},
   "outputs": [],
   "source": [
    "import pandas as pd\n",
    "import matplotlib.pyplot as plt\n",
    "import seaborn as sns\n",
    "\n",
    "from sklearn.model_selection import train_test_split\n",
    "from sklearn.preprocessing import StandardScaler, LabelEncoder\n",
    "from sklearn.metrics import accuracy_score\n",
    "\n",
    "import xgboost as xgb"
   ]
  },
  {
   "cell_type": "markdown",
   "id": "225bc84c",
   "metadata": {},
   "source": [
    "### Pré traitement des données"
   ]
  },
  {
   "cell_type": "markdown",
   "id": "22853b81",
   "metadata": {},
   "source": [
    "> Problèmes rencontrés : Certaines lignes du dataset sont mal séparées et les données se retrouve décalées par rapport à leur colonne d'origine et, d'autres lignes contiennent des elements qui n'ont pas de sens par rapport au données de la colonne en question (contenant le caractère : N,\"\"0\")\n",
    "\n",
    "> Proposition de solution : En analysant les données, on se rend compte que certaines lignes se termine par 0, 1, 2 ou 3 virgules tandisqu'elles devaient se terminer par 4. Et on se rend compte qu'il y a des virgules superflues ajouter à l'intérieur de la ligne. Ainsi, nous avons commencé par supprimer ces virgules afin de bien structurer le dataset. Pour le second problème, nous nous proposons de supprimer toutes les lignes affectées."
   ]
  },
  {
   "cell_type": "code",
   "execution_count": 170,
   "id": "21b16861",
   "metadata": {},
   "outputs": [
    {
     "name": "stdout",
     "output_type": "stream",
     "text": [
      "Successfully terminated\n"
     ]
    }
   ],
   "source": [
    "def preprocess_csv(input_file, output_file):\n",
    "    with open(input_file, 'r', newline='') as infile, open(output_file, 'w', newline='') as outfile:\n",
    "        for line in infile:\n",
    "            # Supprimer les espaces en début et fin de ligne\n",
    "            line = line.strip()\n",
    "\n",
    "            # On ignore pour le fichier à jour les lignes contenant ce caractère\n",
    "            if 'N,\"\"0\"' in line :\n",
    "                continue\n",
    "                \n",
    "            if line.endswith(',,,') and not line.endswith(',,,,'):\n",
    "                # Trouver la position de la deuxième virgule à partir du début\n",
    "                second_comma_index = line.find(',', line.find(',') + 1)\n",
    "\n",
    "                # Supprimer la deuxième virgule de la ligne\n",
    "                line = line[:second_comma_index] + line[second_comma_index + 1:]\n",
    "\n",
    "            elif line.endswith(',,') and not line.endswith(',,,') and not line.endswith(',,,,'):\n",
    "                for i in range(2) :\n",
    "                    # Trouver la position de la deuxième virgule à partir du début\n",
    "                    second_comma_index = line.find(',', line.find(',') + 1)\n",
    "\n",
    "                    # Supprimer la deuxième virgule de la ligne\n",
    "                    line = line[:second_comma_index] + line[second_comma_index + 1:]\n",
    "\n",
    "            # Vérifier si la ligne se termine par exactement trois virgules\n",
    "            elif line.endswith(',') and not line.endswith(',,') and not line.endswith(',,,') and not line.endswith(',,,,'):\n",
    "                for i in range(3) :\n",
    "                    # Trouver la position de la deuxième virgule à partir du début\n",
    "                    second_comma_index = line.find(',', line.find(',') + 1)\n",
    "\n",
    "                    # Supprimer la deuxième virgule de la ligne\n",
    "                    line = line[:second_comma_index] + line[second_comma_index + 1:]\n",
    "\n",
    "            elif not line.endswith(',') and not line.endswith(',,') and not line.endswith(',,,') and not line.endswith(',,,,'):\n",
    "                for i in range(4) :\n",
    "                    # Trouver la position de la deuxième virgule à partir du début\n",
    "                    second_comma_index = line.find(',', line.find(',') + 1)\n",
    "\n",
    "                    # Supprimer la deuxième virgule de la ligne\n",
    "                    line = line[:second_comma_index] + line[second_comma_index + 1:]\n",
    "\n",
    "            # Suppression des virgules superflues en fin de ligne\n",
    "            line = line.rstrip(',')\n",
    "            # Écrire la ligne résultante dans le fichier de sortie\n",
    "            outfile.write(line + '\\n')\n",
    "\n",
    "# Utilisation du code\n",
    "input_filename = 'ks_dataset.csv'\n",
    "output_filename = 'ks_dataset_update.csv'\n",
    "\n",
    "preprocess_csv(input_filename, output_filename)\n",
    "print(\"Successfully terminated\")"
   ]
  },
  {
   "cell_type": "code",
   "execution_count": 274,
   "id": "feeff552",
   "metadata": {},
   "outputs": [],
   "source": [
    "#Imporation du nouveau dataset\n",
    "df = pd.read_csv('ks_dataset_update.csv', encoding='latin-1')"
   ]
  },
  {
   "cell_type": "code",
   "execution_count": 275,
   "id": "56f07616",
   "metadata": {},
   "outputs": [
    {
     "data": {
      "text/html": [
       "<div>\n",
       "<style scoped>\n",
       "    .dataframe tbody tr th:only-of-type {\n",
       "        vertical-align: middle;\n",
       "    }\n",
       "\n",
       "    .dataframe tbody tr th {\n",
       "        vertical-align: top;\n",
       "    }\n",
       "\n",
       "    .dataframe thead th {\n",
       "        text-align: right;\n",
       "    }\n",
       "</style>\n",
       "<table border=\"1\" class=\"dataframe\">\n",
       "  <thead>\n",
       "    <tr style=\"text-align: right;\">\n",
       "      <th></th>\n",
       "      <th>ID</th>\n",
       "      <th>name</th>\n",
       "      <th>category</th>\n",
       "      <th>main_category</th>\n",
       "      <th>currency</th>\n",
       "      <th>deadline</th>\n",
       "      <th>goal</th>\n",
       "      <th>launched</th>\n",
       "      <th>pledged</th>\n",
       "      <th>state</th>\n",
       "      <th>backers</th>\n",
       "      <th>country</th>\n",
       "      <th>usd pledged</th>\n",
       "    </tr>\n",
       "  </thead>\n",
       "  <tbody>\n",
       "    <tr>\n",
       "      <th>0</th>\n",
       "      <td>1000002330</td>\n",
       "      <td>The Songs of Adelaide &amp; Abullah</td>\n",
       "      <td>Poetry</td>\n",
       "      <td>Publishing</td>\n",
       "      <td>GBP</td>\n",
       "      <td>2015-10-09 11:36:00</td>\n",
       "      <td>1000.0</td>\n",
       "      <td>2015-08-11 12:12:28</td>\n",
       "      <td>0.0</td>\n",
       "      <td>failed</td>\n",
       "      <td>0</td>\n",
       "      <td>GB</td>\n",
       "      <td>0.0</td>\n",
       "    </tr>\n",
       "    <tr>\n",
       "      <th>1</th>\n",
       "      <td>1000004038</td>\n",
       "      <td>Where is Hank?</td>\n",
       "      <td>Narrative Film</td>\n",
       "      <td>Film &amp; Video</td>\n",
       "      <td>USD</td>\n",
       "      <td>2013-02-26 00:20:50</td>\n",
       "      <td>45000.0</td>\n",
       "      <td>2013-01-12 00:20:50</td>\n",
       "      <td>220.0</td>\n",
       "      <td>failed</td>\n",
       "      <td>3</td>\n",
       "      <td>US</td>\n",
       "      <td>220.0</td>\n",
       "    </tr>\n",
       "    <tr>\n",
       "      <th>2</th>\n",
       "      <td>1000007540</td>\n",
       "      <td>ToshiCapital Rekordz Needs Help to Complete Album</td>\n",
       "      <td>Music</td>\n",
       "      <td>Music</td>\n",
       "      <td>USD</td>\n",
       "      <td>2012-04-16 04:24:11</td>\n",
       "      <td>5000.0</td>\n",
       "      <td>2012-03-17 03:24:11</td>\n",
       "      <td>1.0</td>\n",
       "      <td>failed</td>\n",
       "      <td>1</td>\n",
       "      <td>US</td>\n",
       "      <td>1.0</td>\n",
       "    </tr>\n",
       "    <tr>\n",
       "      <th>3</th>\n",
       "      <td>1000011046</td>\n",
       "      <td>Community Film Project: The Art of Neighborhoo...</td>\n",
       "      <td>Film &amp; Video</td>\n",
       "      <td>Film &amp; Video</td>\n",
       "      <td>USD</td>\n",
       "      <td>2015-08-29 01:00:00</td>\n",
       "      <td>19500.0</td>\n",
       "      <td>2015-07-04 08:35:03</td>\n",
       "      <td>1283.0</td>\n",
       "      <td>canceled</td>\n",
       "      <td>14</td>\n",
       "      <td>US</td>\n",
       "      <td>1283.0</td>\n",
       "    </tr>\n",
       "    <tr>\n",
       "      <th>4</th>\n",
       "      <td>1000014025</td>\n",
       "      <td>Monarch Espresso Bar</td>\n",
       "      <td>Restaurants</td>\n",
       "      <td>Food</td>\n",
       "      <td>USD</td>\n",
       "      <td>2016-04-01 13:38:27</td>\n",
       "      <td>50000.0</td>\n",
       "      <td>2016-02-26 13:38:27</td>\n",
       "      <td>52375.0</td>\n",
       "      <td>successful</td>\n",
       "      <td>224</td>\n",
       "      <td>US</td>\n",
       "      <td>52375.0</td>\n",
       "    </tr>\n",
       "  </tbody>\n",
       "</table>\n",
       "</div>"
      ],
      "text/plain": [
       "          ID                                               name   \\\n",
       "0  1000002330                    The Songs of Adelaide & Abullah   \n",
       "1  1000004038                                     Where is Hank?   \n",
       "2  1000007540  ToshiCapital Rekordz Needs Help to Complete Album   \n",
       "3  1000011046  Community Film Project: The Art of Neighborhoo...   \n",
       "4  1000014025                               Monarch Espresso Bar   \n",
       "\n",
       "        category  main_category  currency             deadline     goal   \\\n",
       "0          Poetry     Publishing       GBP  2015-10-09 11:36:00   1000.0   \n",
       "1  Narrative Film   Film & Video       USD  2013-02-26 00:20:50  45000.0   \n",
       "2           Music          Music       USD  2012-04-16 04:24:11   5000.0   \n",
       "3    Film & Video   Film & Video       USD  2015-08-29 01:00:00  19500.0   \n",
       "4     Restaurants           Food       USD  2016-04-01 13:38:27  50000.0   \n",
       "\n",
       "             launched   pledged       state   backers  country   usd pledged   \n",
       "0  2015-08-11 12:12:28       0.0      failed         0       GB           0.0  \n",
       "1  2013-01-12 00:20:50     220.0      failed         3       US         220.0  \n",
       "2  2012-03-17 03:24:11       1.0      failed         1       US           1.0  \n",
       "3  2015-07-04 08:35:03    1283.0    canceled        14       US        1283.0  \n",
       "4  2016-02-26 13:38:27   52375.0  successful       224       US       52375.0  "
      ]
     },
     "execution_count": 275,
     "metadata": {},
     "output_type": "execute_result"
    }
   ],
   "source": [
    "# Visualisation de quelques données\n",
    "df.head()"
   ]
  },
  {
   "cell_type": "code",
   "execution_count": 221,
   "id": "58584ee6",
   "metadata": {},
   "outputs": [
    {
     "name": "stdout",
     "output_type": "stream",
     "text": [
      "<class 'pandas.core.frame.DataFrame'>\n",
      "RangeIndex: 319953 entries, 0 to 319952\n",
      "Data columns (total 13 columns):\n",
      " #   Column          Non-Null Count   Dtype  \n",
      "---  ------          --------------   -----  \n",
      " 0   ID              319953 non-null  int64  \n",
      " 1   name            319949 non-null  object \n",
      " 2   category        319953 non-null  object \n",
      " 3   main_category   319953 non-null  object \n",
      " 4   currency        319953 non-null  object \n",
      " 5   deadline        319953 non-null  object \n",
      " 6   goal            319953 non-null  float64\n",
      " 7   launched        319953 non-null  object \n",
      " 8   pledged         319953 non-null  float64\n",
      " 9   state           319953 non-null  object \n",
      " 10  backers         319953 non-null  int64  \n",
      " 11  country         319953 non-null  object \n",
      " 12  usd pledged     319953 non-null  float64\n",
      "dtypes: float64(3), int64(2), object(8)\n",
      "memory usage: 31.7+ MB\n"
     ]
    }
   ],
   "source": [
    "df.info()"
   ]
  },
  {
   "cell_type": "code",
   "execution_count": 276,
   "id": "59c2fecd",
   "metadata": {},
   "outputs": [
    {
     "data": {
      "text/plain": [
       "array(['GBP', 'USD', 'CAD', 'NOK', 'AUD', 'EUR', 'MXN', 'SEK', 'NZD',\n",
       "       'CHF', 'DKK', 'HKD', 'SGD'], dtype=object)"
      ]
     },
     "execution_count": 276,
     "metadata": {},
     "output_type": "execute_result"
    }
   ],
   "source": [
    "# On verifie si les lignes contienent bien des element homogènes (de même nature afin de s'assure que les lignes ne soient plus décalées)\n",
    "df['currency '].unique()"
   ]
  },
  {
   "cell_type": "code",
   "execution_count": 223,
   "id": "0babd8f3",
   "metadata": {},
   "outputs": [
    {
     "name": "stdout",
     "output_type": "stream",
     "text": [
      "               ID  name        category  main_category  currency   \\\n",
      "141170  1848699072   NaN  Narrative Film   Film & Video       USD   \n",
      "259822   634871725   NaN     Video Games          Games       GBP   \n",
      "262141   648853978   NaN  Product Design         Design       USD   \n",
      "286464   796533179   NaN        Painting            Art       USD   \n",
      "\n",
      "                  deadline      goal             launched   pledged   \\\n",
      "141170  2012-02-29 15:04:00  200000.0  2012-01-01 12:35:31     100.0   \n",
      "259822  2013-01-06 23:00:00    2000.0  2012-12-19 23:57:48     196.0   \n",
      "262141  2016-07-18 05:01:47    2500.0  2016-06-18 05:01:47       0.0   \n",
      "286464  2011-12-05 05:59:00   35000.0  2011-11-06 23:55:55     220.0   \n",
      "\n",
      "           state   backers  country   usd pledged   \n",
      "141170     failed         1       US    100.000000  \n",
      "259822     failed        12       GB    317.728436  \n",
      "262141  suspended         0       US      0.000000  \n",
      "286464     failed         5       US    220.000000  \n"
     ]
    }
   ],
   "source": [
    "# Affichage des lignes où la colonne \"name\" a une valeur nulle\n",
    "null_name_rows = df[df['name '].isnull()]\n",
    "\n",
    "# Affichage du résultat\n",
    "print(null_name_rows)"
   ]
  },
  {
   "cell_type": "code",
   "execution_count": 176,
   "id": "9d6bc695",
   "metadata": {},
   "outputs": [],
   "source": [
    "df.dropna(subset=['name '], inplace=True)"
   ]
  },
  {
   "cell_type": "code",
   "execution_count": 224,
   "id": "38c352ae",
   "metadata": {},
   "outputs": [
    {
     "data": {
      "text/plain": [
       "array(['failed', 'canceled', 'successful', 'live', 'suspended'],\n",
       "      dtype=object)"
      ]
     },
     "execution_count": 224,
     "metadata": {},
     "output_type": "execute_result"
    }
   ],
   "source": [
    "df['state '].unique()"
   ]
  },
  {
   "cell_type": "code",
   "execution_count": 225,
   "id": "cd56e600",
   "metadata": {},
   "outputs": [
    {
     "data": {
      "text/plain": [
       "array(['GB', 'US', 'CA', 'NO', 'AU', 'IT', 'DE', 'IE', 'ES', 'MX', 'SE',\n",
       "       'FR', 'NL', 'NZ', 'CH', 'AT', 'BE', 'DK', 'HK', 'LU', 'SG'],\n",
       "      dtype=object)"
      ]
     },
     "execution_count": 225,
     "metadata": {},
     "output_type": "execute_result"
    }
   ],
   "source": [
    "df['country '].unique()"
   ]
  },
  {
   "cell_type": "code",
   "execution_count": 179,
   "id": "728cfde0",
   "metadata": {},
   "outputs": [
    {
     "data": {
      "text/html": [
       "<div>\n",
       "<style scoped>\n",
       "    .dataframe tbody tr th:only-of-type {\n",
       "        vertical-align: middle;\n",
       "    }\n",
       "\n",
       "    .dataframe tbody tr th {\n",
       "        vertical-align: top;\n",
       "    }\n",
       "\n",
       "    .dataframe thead th {\n",
       "        text-align: right;\n",
       "    }\n",
       "</style>\n",
       "<table border=\"1\" class=\"dataframe\">\n",
       "  <thead>\n",
       "    <tr style=\"text-align: right;\">\n",
       "      <th></th>\n",
       "      <th>ID</th>\n",
       "      <th>name</th>\n",
       "      <th>category</th>\n",
       "      <th>main_category</th>\n",
       "      <th>currency</th>\n",
       "      <th>deadline</th>\n",
       "      <th>goal</th>\n",
       "      <th>launched</th>\n",
       "      <th>pledged</th>\n",
       "      <th>state</th>\n",
       "      <th>backers</th>\n",
       "      <th>country</th>\n",
       "      <th>usd pledged</th>\n",
       "    </tr>\n",
       "  </thead>\n",
       "  <tbody>\n",
       "  </tbody>\n",
       "</table>\n",
       "</div>"
      ],
      "text/plain": [
       "Empty DataFrame\n",
       "Columns: [ID , name , category , main_category , currency , deadline , goal , launched , pledged , state , backers , country , usd pledged ]\n",
       "Index: []"
      ]
     },
     "execution_count": 179,
     "metadata": {},
     "output_type": "execute_result"
    }
   ],
   "source": [
    "# On s'assure de la coherence entre la date de début et la fin. \n",
    "df['launched '] = pd.to_datetime(df['launched '])\n",
    "df['deadline '] = pd.to_datetime(df['deadline '])\n",
    "\n",
    "df_test = df[df['launched '] > df['deadline ']]\n",
    "\n",
    "df_test"
   ]
  },
  {
   "cell_type": "markdown",
   "id": "37fc3cf0",
   "metadata": {},
   "source": [
    "> Problème rencontré : On constate que pour certains projets se trouvant dans une localité où en US et utilisant comme monnaie le USD, la conversion du prix en monnaie locale (pledged) et du prix en usd (usd pledged) sont différents. Ce qui n'est pas normal vu que la monnaie locale est le USD et les deux colonnes devraient être identiques"
   ]
  },
  {
   "cell_type": "markdown",
   "id": "5dfe2cec",
   "metadata": {},
   "source": [
    "> Solution apportée : On a jugé necessaire de supprimer les dites lignes. Nous avons d'abord voulu reconduire les valeurs de pledged dans usd pledged pour ce cas spécifique mais, ce serait modifier les données ce qui n'est pas bien"
   ]
  },
  {
   "cell_type": "code",
   "execution_count": 180,
   "id": "79663e67",
   "metadata": {},
   "outputs": [
    {
     "data": {
      "text/html": [
       "<div>\n",
       "<style scoped>\n",
       "    .dataframe tbody tr th:only-of-type {\n",
       "        vertical-align: middle;\n",
       "    }\n",
       "\n",
       "    .dataframe tbody tr th {\n",
       "        vertical-align: top;\n",
       "    }\n",
       "\n",
       "    .dataframe thead th {\n",
       "        text-align: right;\n",
       "    }\n",
       "</style>\n",
       "<table border=\"1\" class=\"dataframe\">\n",
       "  <thead>\n",
       "    <tr style=\"text-align: right;\">\n",
       "      <th></th>\n",
       "      <th>ID</th>\n",
       "      <th>name</th>\n",
       "      <th>category</th>\n",
       "      <th>main_category</th>\n",
       "      <th>currency</th>\n",
       "      <th>deadline</th>\n",
       "      <th>goal</th>\n",
       "      <th>launched</th>\n",
       "      <th>pledged</th>\n",
       "      <th>state</th>\n",
       "      <th>backers</th>\n",
       "      <th>country</th>\n",
       "      <th>usd pledged</th>\n",
       "    </tr>\n",
       "  </thead>\n",
       "  <tbody>\n",
       "    <tr>\n",
       "      <th>27</th>\n",
       "      <td>1000117861</td>\n",
       "      <td>Ledr workbook: one tough journal!</td>\n",
       "      <td>Product Design</td>\n",
       "      <td>Design</td>\n",
       "      <td>USD</td>\n",
       "      <td>2016-10-08 02:00:00</td>\n",
       "      <td>1000.0</td>\n",
       "      <td>2016-09-07 13:14:26</td>\n",
       "      <td>47266.0</td>\n",
       "      <td>successful</td>\n",
       "      <td>549</td>\n",
       "      <td>US</td>\n",
       "      <td>11253.0</td>\n",
       "    </tr>\n",
       "    <tr>\n",
       "      <th>62</th>\n",
       "      <td>1000261018</td>\n",
       "      <td>Diposta - liberating people from their postal ...</td>\n",
       "      <td>Web</td>\n",
       "      <td>Technology</td>\n",
       "      <td>USD</td>\n",
       "      <td>2016-08-23 13:18:36</td>\n",
       "      <td>100000.0</td>\n",
       "      <td>2016-07-24 13:18:36</td>\n",
       "      <td>141.0</td>\n",
       "      <td>failed</td>\n",
       "      <td>3</td>\n",
       "      <td>US</td>\n",
       "      <td>100.0</td>\n",
       "    </tr>\n",
       "    <tr>\n",
       "      <th>92</th>\n",
       "      <td>1000415969</td>\n",
       "      <td>Disaster Area: A Podcast</td>\n",
       "      <td>Radio &amp; Podcasts</td>\n",
       "      <td>Publishing</td>\n",
       "      <td>USD</td>\n",
       "      <td>2016-12-28 17:58:04</td>\n",
       "      <td>1000.0</td>\n",
       "      <td>2016-11-28 17:58:04</td>\n",
       "      <td>125.0</td>\n",
       "      <td>live</td>\n",
       "      <td>3</td>\n",
       "      <td>US</td>\n",
       "      <td>0.0</td>\n",
       "    </tr>\n",
       "    <tr>\n",
       "      <th>93</th>\n",
       "      <td>1000422671</td>\n",
       "      <td>Titanium EDC Bottle Opener</td>\n",
       "      <td>Product Design</td>\n",
       "      <td>Design</td>\n",
       "      <td>USD</td>\n",
       "      <td>2016-11-20 16:23:31</td>\n",
       "      <td>500.0</td>\n",
       "      <td>2016-10-21 16:23:31</td>\n",
       "      <td>156.0</td>\n",
       "      <td>failed</td>\n",
       "      <td>4</td>\n",
       "      <td>US</td>\n",
       "      <td>1.0</td>\n",
       "    </tr>\n",
       "    <tr>\n",
       "      <th>103</th>\n",
       "      <td>1000481607</td>\n",
       "      <td>Alpha Omega E.P.</td>\n",
       "      <td>Metal</td>\n",
       "      <td>Music</td>\n",
       "      <td>USD</td>\n",
       "      <td>2016-09-30 22:34:26</td>\n",
       "      <td>1000.0</td>\n",
       "      <td>2016-09-05 22:34:26</td>\n",
       "      <td>472.0</td>\n",
       "      <td>failed</td>\n",
       "      <td>13</td>\n",
       "      <td>US</td>\n",
       "      <td>0.0</td>\n",
       "    </tr>\n",
       "    <tr>\n",
       "      <th>...</th>\n",
       "      <td>...</td>\n",
       "      <td>...</td>\n",
       "      <td>...</td>\n",
       "      <td>...</td>\n",
       "      <td>...</td>\n",
       "      <td>...</td>\n",
       "      <td>...</td>\n",
       "      <td>...</td>\n",
       "      <td>...</td>\n",
       "      <td>...</td>\n",
       "      <td>...</td>\n",
       "      <td>...</td>\n",
       "      <td>...</td>\n",
       "    </tr>\n",
       "    <tr>\n",
       "      <th>319813</th>\n",
       "      <td>999120006</td>\n",
       "      <td>In The Ring</td>\n",
       "      <td>Shorts</td>\n",
       "      <td>Film &amp; Video</td>\n",
       "      <td>USD</td>\n",
       "      <td>2016-12-01 19:15:04</td>\n",
       "      <td>12000.0</td>\n",
       "      <td>2016-11-01 18:15:04</td>\n",
       "      <td>12206.0</td>\n",
       "      <td>successful</td>\n",
       "      <td>152</td>\n",
       "      <td>US</td>\n",
       "      <td>3676.0</td>\n",
       "    </tr>\n",
       "    <tr>\n",
       "      <th>319815</th>\n",
       "      <td>999133026</td>\n",
       "      <td>Kuña: documental sobre la mujer paraguaya</td>\n",
       "      <td>Documentary</td>\n",
       "      <td>Film &amp; Video</td>\n",
       "      <td>USD</td>\n",
       "      <td>2016-08-14 00:29:00</td>\n",
       "      <td>10000.0</td>\n",
       "      <td>2016-07-13 01:58:44</td>\n",
       "      <td>10588.0</td>\n",
       "      <td>successful</td>\n",
       "      <td>181</td>\n",
       "      <td>US</td>\n",
       "      <td>350.0</td>\n",
       "    </tr>\n",
       "    <tr>\n",
       "      <th>319834</th>\n",
       "      <td>999270657</td>\n",
       "      <td>Cotopaxi ConnectCustom Gear, Co-Designed</td>\n",
       "      <td>Product Design</td>\n",
       "      <td>Design</td>\n",
       "      <td>USD</td>\n",
       "      <td>2017-01-19 08:00:35</td>\n",
       "      <td>25000.0</td>\n",
       "      <td>2016-11-20 08:00:35</td>\n",
       "      <td>5763.0</td>\n",
       "      <td>live</td>\n",
       "      <td>108</td>\n",
       "      <td>US</td>\n",
       "      <td>1505.0</td>\n",
       "    </tr>\n",
       "    <tr>\n",
       "      <th>319885</th>\n",
       "      <td>999587299</td>\n",
       "      <td>Arcane Sally &amp; Mr. Steam #2</td>\n",
       "      <td>Comic Books</td>\n",
       "      <td>Comics</td>\n",
       "      <td>USD</td>\n",
       "      <td>2016-09-19 08:59:00</td>\n",
       "      <td>1500.0</td>\n",
       "      <td>2016-08-26 01:09:58</td>\n",
       "      <td>6771.0</td>\n",
       "      <td>successful</td>\n",
       "      <td>285</td>\n",
       "      <td>US</td>\n",
       "      <td>1617.0</td>\n",
       "    </tr>\n",
       "    <tr>\n",
       "      <th>319916</th>\n",
       "      <td>999780798</td>\n",
       "      <td>Green City Times</td>\n",
       "      <td>Web</td>\n",
       "      <td>Journalism</td>\n",
       "      <td>USD</td>\n",
       "      <td>2016-08-28 05:27:43</td>\n",
       "      <td>5000.0</td>\n",
       "      <td>2016-07-29 05:27:43</td>\n",
       "      <td>11.0</td>\n",
       "      <td>failed</td>\n",
       "      <td>3</td>\n",
       "      <td>US</td>\n",
       "      <td>0.0</td>\n",
       "    </tr>\n",
       "  </tbody>\n",
       "</table>\n",
       "<p>14799 rows × 13 columns</p>\n",
       "</div>"
      ],
      "text/plain": [
       "               ID                                               name   \\\n",
       "27      1000117861                  Ledr workbook: one tough journal!   \n",
       "62      1000261018  Diposta - liberating people from their postal ...   \n",
       "92      1000415969                           Disaster Area: A Podcast   \n",
       "93      1000422671                         Titanium EDC Bottle Opener   \n",
       "103     1000481607                                   Alpha Omega E.P.   \n",
       "...            ...                                                ...   \n",
       "319813   999120006                                        In The Ring   \n",
       "319815   999133026          Kuña: documental sobre la mujer paraguaya   \n",
       "319834   999270657          Cotopaxi ConnectCustom Gear, Co-Designed   \n",
       "319885   999587299                        Arcane Sally & Mr. Steam #2   \n",
       "319916   999780798                                   Green City Times   \n",
       "\n",
       "               category  main_category  currency            deadline   \\\n",
       "27        Product Design         Design       USD 2016-10-08 02:00:00   \n",
       "62                   Web     Technology       USD 2016-08-23 13:18:36   \n",
       "92      Radio & Podcasts     Publishing       USD 2016-12-28 17:58:04   \n",
       "93        Product Design         Design       USD 2016-11-20 16:23:31   \n",
       "103                Metal          Music       USD 2016-09-30 22:34:26   \n",
       "...                  ...            ...       ...                 ...   \n",
       "319813            Shorts   Film & Video       USD 2016-12-01 19:15:04   \n",
       "319815       Documentary   Film & Video       USD 2016-08-14 00:29:00   \n",
       "319834    Product Design         Design       USD 2017-01-19 08:00:35   \n",
       "319885       Comic Books         Comics       USD 2016-09-19 08:59:00   \n",
       "319916               Web     Journalism       USD 2016-08-28 05:27:43   \n",
       "\n",
       "           goal            launched   pledged       state   backers  country   \\\n",
       "27        1000.0 2016-09-07 13:14:26   47266.0  successful       549       US   \n",
       "62      100000.0 2016-07-24 13:18:36     141.0      failed         3       US   \n",
       "92        1000.0 2016-11-28 17:58:04     125.0        live         3       US   \n",
       "93         500.0 2016-10-21 16:23:31     156.0      failed         4       US   \n",
       "103       1000.0 2016-09-05 22:34:26     472.0      failed        13       US   \n",
       "...          ...                 ...       ...         ...       ...      ...   \n",
       "319813   12000.0 2016-11-01 18:15:04   12206.0  successful       152       US   \n",
       "319815   10000.0 2016-07-13 01:58:44   10588.0  successful       181       US   \n",
       "319834   25000.0 2016-11-20 08:00:35    5763.0        live       108       US   \n",
       "319885    1500.0 2016-08-26 01:09:58    6771.0  successful       285       US   \n",
       "319916    5000.0 2016-07-29 05:27:43      11.0      failed         3       US   \n",
       "\n",
       "        usd pledged   \n",
       "27           11253.0  \n",
       "62             100.0  \n",
       "92               0.0  \n",
       "93               1.0  \n",
       "103              0.0  \n",
       "...              ...  \n",
       "319813        3676.0  \n",
       "319815         350.0  \n",
       "319834        1505.0  \n",
       "319885        1617.0  \n",
       "319916           0.0  \n",
       "\n",
       "[14799 rows x 13 columns]"
      ]
     },
     "execution_count": 180,
     "metadata": {},
     "output_type": "execute_result"
    }
   ],
   "source": [
    "# On vérifie la coherence de la conversion des prix en USD\n",
    "df_filtre = df.loc[(df['pledged '] != df['usd pledged '] ) & (df['currency '] == 'USD')]\n",
    "\n",
    "# Afficher le DataFrame résultant\n",
    "df_filtre"
   ]
  },
  {
   "cell_type": "code",
   "execution_count": 277,
   "id": "712e96ba",
   "metadata": {},
   "outputs": [],
   "source": [
    "# Retrait des lignes correspondantes\n",
    "df.drop(df[(df['pledged '] != df['usd pledged ']) & (df['currency '] == 'USD')].index, inplace=True)"
   ]
  },
  {
   "cell_type": "code",
   "execution_count": 278,
   "id": "d1348c94",
   "metadata": {},
   "outputs": [
    {
     "name": "stdout",
     "output_type": "stream",
     "text": [
      "<class 'pandas.core.frame.DataFrame'>\n",
      "Int64Index: 305154 entries, 0 to 319952\n",
      "Data columns (total 13 columns):\n",
      " #   Column          Non-Null Count   Dtype  \n",
      "---  ------          --------------   -----  \n",
      " 0   ID              305154 non-null  int64  \n",
      " 1   name            305150 non-null  object \n",
      " 2   category        305154 non-null  object \n",
      " 3   main_category   305154 non-null  object \n",
      " 4   currency        305154 non-null  object \n",
      " 5   deadline        305154 non-null  object \n",
      " 6   goal            305154 non-null  float64\n",
      " 7   launched        305154 non-null  object \n",
      " 8   pledged         305154 non-null  float64\n",
      " 9   state           305154 non-null  object \n",
      " 10  backers         305154 non-null  int64  \n",
      " 11  country         305154 non-null  object \n",
      " 12  usd pledged     305154 non-null  float64\n",
      "dtypes: float64(3), int64(2), object(8)\n",
      "memory usage: 32.6+ MB\n"
     ]
    }
   ],
   "source": [
    "df.info()"
   ]
  },
  {
   "cell_type": "markdown",
   "id": "4648dde6",
   "metadata": {},
   "source": [
    "### Identification des insights pertinents liés au succes ou à l'echec de la campagne"
   ]
  },
  {
   "cell_type": "markdown",
   "id": "04ca752e",
   "metadata": {},
   "source": [
    "> La catégorie"
   ]
  },
  {
   "cell_type": "code",
   "execution_count": 230,
   "id": "bf7f5887",
   "metadata": {},
   "outputs": [
    {
     "data": {
      "image/png": "[encoded data removed]",
      "text/plain": [
       "<Figure size 432x288 with 1 Axes>"
      ]
     },
     "metadata": {
      "needs_background": "light"
     },
     "output_type": "display_data"
    }
   ],
   "source": [
    "# Taux de réussite par catégorie\n",
    "success_by_category = df.groupby('main_category ')['state '].value_counts(normalize=True).unstack().fillna(0)\n",
    "success_by_category['success_rate'] = success_by_category['successful'] / (success_by_category['successful'] + success_by_category['failed'])\n",
    "\n",
    "# Top 10 catégories avec le plus haut taux de réussite\n",
    "top_categories = success_by_category.sort_values(by='success_rate', ascending=False).head(20)\n",
    "sns.barplot(x=top_categories['success_rate'], y=top_categories.index, palette='viridis')\n",
    "plt.title('Top 10 Catégories avec le Plus Haut Taux de Réussite')\n",
    "plt.xlabel('Taux de Réussite')\n",
    "plt.ylabel('Catégorie')\n",
    "plt.show()\n"
   ]
  },
  {
   "cell_type": "markdown",
   "id": "52cc755d",
   "metadata": {},
   "source": [
    "> Par année de lancement en se basant sur la deadline et launched"
   ]
  },
  {
   "cell_type": "code",
   "execution_count": 231,
   "id": "1f7db207",
   "metadata": {},
   "outputs": [
    {
     "data": {
      "image/png": "[encoded data removed]",
      "text/plain": [
       "<Figure size 432x288 with 1 Axes>"
      ]
     },
     "metadata": {
      "needs_background": "light"
     },
     "output_type": "display_data"
    }
   ],
   "source": [
    "# Convertir les colonnes de dates en type datetime\n",
    "df['deadline '] = pd.to_datetime(df['deadline '])\n",
    "df['launched '] = pd.to_datetime(df['launched '])\n",
    "\n",
    "# Créer une nouvelle colonne pour l'année de lancement\n",
    "df['launch_year'] = df['launched '].dt.year\n",
    "\n",
    "# Taux de réussite par année\n",
    "success_by_year = df.groupby('launch_year')['state '].value_counts(normalize=True).unstack().fillna(0)\n",
    "success_by_year['success_rate'] = success_by_year['successful'] / (success_by_year['successful'] + success_by_year['failed'])\n",
    "\n",
    "# Tracer le taux de réussite au fil des années\n",
    "plt.plot(success_by_year.index, success_by_year['success_rate'], marker='o', linestyle='-', color='b')\n",
    "plt.title('Évolution du Taux de Réussite au Fil des Années')\n",
    "plt.xlabel('Année de Lancement')\n",
    "plt.ylabel('Taux de Réussite')\n",
    "plt.show()"
   ]
  },
  {
   "cell_type": "code",
   "execution_count": 279,
   "id": "4ef2d7c2",
   "metadata": {},
   "outputs": [
    {
     "data": {
      "image/png": "[encoded data removed]",
      "text/plain": [
       "<Figure size 432x288 with 1 Axes>"
      ]
     },
     "metadata": {
      "needs_background": "light"
     },
     "output_type": "display_data"
    }
   ],
   "source": [
    "# Convertir les colonnes de dates en type datetime\n",
    "df['deadline '] = pd.to_datetime(df['deadline '])\n",
    "df['launched '] = pd.to_datetime(df['launched '])\n",
    "\n",
    "# Calculer la différence de date entre 'deadline' et 'launched'\n",
    "df['duration'] = (df['deadline '] - df['launched ']).dt.days\n",
    "\n",
    "# Tracer le succès en fonction de la durée\n",
    "success_by_duration = df.groupby('duration')['state '].value_counts(normalize=True).unstack().fillna(0)\n",
    "success_by_duration['success_rate'] = success_by_duration['successful'] / (success_by_duration['successful'] + success_by_duration['failed'])\n",
    "\n",
    "# Tracer le taux de réussite en fonction de la durée\n",
    "plt.plot(success_by_duration.index, success_by_duration['success_rate'], marker='o', linestyle='-', color='b')\n",
    "plt.title('Taux de Réussite en Fonction de la Durée')\n",
    "plt.xlabel('Durée (jours)')\n",
    "plt.ylabel('Taux de Réussite')\n",
    "plt.show()\n"
   ]
  },
  {
   "cell_type": "markdown",
   "id": "f81da4c5",
   "metadata": {},
   "source": [
    "On constate que pour les projets ayant débutés entre les années 2009 et 2013 ont eu un taux de reussite par rapport à ceux ayant echoués (failed) de plus de 45%"
   ]
  },
  {
   "cell_type": "markdown",
   "id": "15b53bd0",
   "metadata": {},
   "source": [
    "> En comparant le coût effectif du projet (pledged) par rapport au montant demandé (goal)"
   ]
  },
  {
   "cell_type": "code",
   "execution_count": 232,
   "id": "4410fa6b",
   "metadata": {},
   "outputs": [
    {
     "data": {
      "image/png": "[encoded data removed]",
      "text/plain": [
       "<Figure size 864x432 with 1 Axes>"
      ]
     },
     "metadata": {
      "needs_background": "light"
     },
     "output_type": "display_data"
    }
   ],
   "source": [
    "# Tracer un boxplot pour comparer 'goal' et 'pledged' en fonction de l'état de la campagne\n",
    "plt.figure(figsize=(12, 6))\n",
    "sns.boxenplot(x='state ', y='goal ', data=df, showfliers=False, palette='Set1')\n",
    "sns.boxenplot(x='state ', y='pledged ', data=df, showfliers=False, palette='Set3')\n",
    "plt.yscale('log')\n",
    "plt.title(\"Comparaison des Objectifs Financiers et Montants Réalisés par État de la Campagne (Log Scale)\")\n",
    "plt.xlabel(\"État de la Campagne\")\n",
    "plt.ylabel(\"Montant (log scale)\")\n",
    "plt.legend(title='Variables', labels=['Objectif Financier', 'Montant Réalisé'])\n",
    "plt.show()\n"
   ]
  },
  {
   "cell_type": "markdown",
   "id": "6b1ded84",
   "metadata": {},
   "source": [
    "On constate que pour les projets ayant réussit, l'objectif financier etait assez proche du montant demandé "
   ]
  },
  {
   "cell_type": "markdown",
   "id": "aa2f7604",
   "metadata": {},
   "source": [
    "### Entrainement et test"
   ]
  },
  {
   "cell_type": "code",
   "execution_count": 298,
   "id": "8eee1b97",
   "metadata": {},
   "outputs": [],
   "source": [
    "# Suppression des colonnes non nécessaires\n",
    "df_preprocessed = df.drop(['ID ', 'name ', 'currency ', 'deadline ', 'launched ', 'country ', 'backers ', 'category '], axis=1)\n",
    "\n",
    "# df_preprocessed['goal_binary'] = df['goal '].apply(lambda x: 0 if x < 6000 else 1)\n",
    "\n",
    "# Gestion des valeurs manquantes\n",
    "df_preprocessed = df_preprocessed.dropna()\n",
    "\n",
    "# Encodage de la variable cible 'state'\n",
    "le = LabelEncoder()\n",
    "df_preprocessed['state '] = le.fit_transform(df_preprocessed['state '])\n",
    "\n",
    "# Conversion des variables catégorielles en variables indicatrices\n",
    "df_preprocessed = pd.get_dummies(df_preprocessed, columns=['main_category '], drop_first=True)\n",
    "\n",
    "# Division en ensembles d'entraînement et de test\n",
    "X_train, X_test, y_train, y_test = train_test_split(df_preprocessed.drop('state ', axis=1), df_preprocessed['state '], test_size=0.2, random_state=50)\n",
    "\n",
    "# Normalisation des caractéristiques\n",
    "scaler = StandardScaler()\n",
    "X_train_scaled = scaler.fit_transform(X_train)\n",
    "X_test_scaled = scaler.transform(X_test)\n"
   ]
  },
  {
   "cell_type": "code",
   "execution_count": 299,
   "id": "b72eb3aa",
   "metadata": {},
   "outputs": [
    {
     "name": "stdout",
     "output_type": "stream",
     "text": [
      "[0]\ttrain-mlogloss:1.42507\teval-mlogloss:1.42618\n",
      "[1]\ttrain-mlogloss:1.29714\teval-mlogloss:1.29904\n",
      "[2]\ttrain-mlogloss:1.17616\teval-mlogloss:1.17886\n",
      "[3]\ttrain-mlogloss:1.08738\teval-mlogloss:1.09077\n",
      "[4]\ttrain-mlogloss:1.00122\teval-mlogloss:1.00547\n",
      "[5]\ttrain-mlogloss:0.94548\teval-mlogloss:0.95058\n",
      "[6]\ttrain-mlogloss:0.87785\teval-mlogloss:0.88368\n",
      "[7]\ttrain-mlogloss:0.82728\teval-mlogloss:0.83390\n",
      "[8]\ttrain-mlogloss:0.78258\teval-mlogloss:0.79003\n",
      "[9]\ttrain-mlogloss:0.73596\teval-mlogloss:0.74392\n",
      "[10]\ttrain-mlogloss:0.70172\teval-mlogloss:0.71038\n",
      "[11]\ttrain-mlogloss:0.66380\teval-mlogloss:0.67309\n",
      "[12]\ttrain-mlogloss:0.62994\teval-mlogloss:0.63994\n",
      "[13]\ttrain-mlogloss:0.60494\teval-mlogloss:0.61558\n",
      "[14]\ttrain-mlogloss:0.57812\teval-mlogloss:0.58926\n",
      "[15]\ttrain-mlogloss:0.55803\teval-mlogloss:0.56991\n",
      "[16]\ttrain-mlogloss:0.53954\teval-mlogloss:0.55213\n",
      "[17]\ttrain-mlogloss:0.52672\teval-mlogloss:0.53972\n",
      "[18]\ttrain-mlogloss:0.50748\teval-mlogloss:0.52115\n",
      "[19]\ttrain-mlogloss:0.49014\teval-mlogloss:0.50450\n",
      "[20]\ttrain-mlogloss:0.47790\teval-mlogloss:0.49293\n",
      "[21]\ttrain-mlogloss:0.46525\teval-mlogloss:0.48091\n",
      "[22]\ttrain-mlogloss:0.45424\teval-mlogloss:0.47044\n",
      "[23]\ttrain-mlogloss:0.44245\teval-mlogloss:0.45919\n",
      "[24]\ttrain-mlogloss:0.43422\teval-mlogloss:0.45152\n",
      "[25]\ttrain-mlogloss:0.42416\teval-mlogloss:0.44201\n",
      "[26]\ttrain-mlogloss:0.41612\teval-mlogloss:0.43449\n",
      "[27]\ttrain-mlogloss:0.40895\teval-mlogloss:0.42786\n",
      "[28]\ttrain-mlogloss:0.40084\teval-mlogloss:0.42038\n",
      "[29]\ttrain-mlogloss:0.39363\teval-mlogloss:0.41378\n",
      "[30]\ttrain-mlogloss:0.38852\teval-mlogloss:0.40923\n",
      "[31]\ttrain-mlogloss:0.38315\teval-mlogloss:0.40431\n",
      "[32]\ttrain-mlogloss:0.37802\teval-mlogloss:0.39974\n",
      "[33]\ttrain-mlogloss:0.37299\teval-mlogloss:0.39517\n",
      "[34]\ttrain-mlogloss:0.36837\teval-mlogloss:0.39117\n",
      "[35]\ttrain-mlogloss:0.36506\teval-mlogloss:0.38839\n",
      "[36]\ttrain-mlogloss:0.36222\teval-mlogloss:0.38606\n",
      "[37]\ttrain-mlogloss:0.35797\teval-mlogloss:0.38241\n",
      "[38]\ttrain-mlogloss:0.35426\teval-mlogloss:0.37919\n",
      "[39]\ttrain-mlogloss:0.35102\teval-mlogloss:0.37642\n",
      "[40]\ttrain-mlogloss:0.34764\teval-mlogloss:0.37360\n",
      "[41]\ttrain-mlogloss:0.34468\teval-mlogloss:0.37117\n",
      "[42]\ttrain-mlogloss:0.34260\teval-mlogloss:0.36959\n",
      "[43]\ttrain-mlogloss:0.34004\teval-mlogloss:0.36749\n",
      "[44]\ttrain-mlogloss:0.33821\teval-mlogloss:0.36625\n",
      "[45]\ttrain-mlogloss:0.33654\teval-mlogloss:0.36519\n",
      "[46]\ttrain-mlogloss:0.33428\teval-mlogloss:0.36346\n",
      "[47]\ttrain-mlogloss:0.33255\teval-mlogloss:0.36205\n",
      "[48]\ttrain-mlogloss:0.33080\teval-mlogloss:0.36061\n",
      "[49]\ttrain-mlogloss:0.32935\teval-mlogloss:0.35966\n",
      "[50]\ttrain-mlogloss:0.32740\teval-mlogloss:0.35824\n",
      "[51]\ttrain-mlogloss:0.32559\teval-mlogloss:0.35691\n",
      "[52]\ttrain-mlogloss:0.32459\teval-mlogloss:0.35626\n",
      "[53]\ttrain-mlogloss:0.32367\teval-mlogloss:0.35574\n",
      "[54]\ttrain-mlogloss:0.32213\teval-mlogloss:0.35459\n",
      "[55]\ttrain-mlogloss:0.32094\teval-mlogloss:0.35377\n",
      "[56]\ttrain-mlogloss:0.31945\teval-mlogloss:0.35275\n",
      "[57]\ttrain-mlogloss:0.31868\teval-mlogloss:0.35237\n",
      "[58]\ttrain-mlogloss:0.31754\teval-mlogloss:0.35164\n",
      "[59]\ttrain-mlogloss:0.31651\teval-mlogloss:0.35087\n",
      "[60]\ttrain-mlogloss:0.31556\teval-mlogloss:0.35038\n",
      "[61]\ttrain-mlogloss:0.31471\teval-mlogloss:0.34998\n",
      "[62]\ttrain-mlogloss:0.31396\teval-mlogloss:0.34970\n",
      "[63]\ttrain-mlogloss:0.31291\teval-mlogloss:0.34911\n",
      "[64]\ttrain-mlogloss:0.31188\teval-mlogloss:0.34849\n",
      "[65]\ttrain-mlogloss:0.31132\teval-mlogloss:0.34828\n",
      "[66]\ttrain-mlogloss:0.31059\teval-mlogloss:0.34800\n",
      "[67]\ttrain-mlogloss:0.30982\teval-mlogloss:0.34751\n",
      "[68]\ttrain-mlogloss:0.30890\teval-mlogloss:0.34701\n",
      "[69]\ttrain-mlogloss:0.30821\teval-mlogloss:0.34662\n",
      "[70]\ttrain-mlogloss:0.30735\teval-mlogloss:0.34616\n",
      "[71]\ttrain-mlogloss:0.30655\teval-mlogloss:0.34581\n",
      "[72]\ttrain-mlogloss:0.30586\teval-mlogloss:0.34542\n",
      "[73]\ttrain-mlogloss:0.30518\teval-mlogloss:0.34507\n",
      "[74]\ttrain-mlogloss:0.30464\teval-mlogloss:0.34488\n",
      "[75]\ttrain-mlogloss:0.30414\teval-mlogloss:0.34468\n",
      "[76]\ttrain-mlogloss:0.30362\teval-mlogloss:0.34455\n",
      "[77]\ttrain-mlogloss:0.30298\teval-mlogloss:0.34424\n",
      "[78]\ttrain-mlogloss:0.30235\teval-mlogloss:0.34398\n",
      "[79]\ttrain-mlogloss:0.30180\teval-mlogloss:0.34376\n",
      "[80]\ttrain-mlogloss:0.30138\teval-mlogloss:0.34369\n",
      "[81]\ttrain-mlogloss:0.30092\teval-mlogloss:0.34344\n",
      "[82]\ttrain-mlogloss:0.30042\teval-mlogloss:0.34333\n",
      "[83]\ttrain-mlogloss:0.29984\teval-mlogloss:0.34314\n",
      "[84]\ttrain-mlogloss:0.29929\teval-mlogloss:0.34292\n",
      "[85]\ttrain-mlogloss:0.29879\teval-mlogloss:0.34267\n",
      "[86]\ttrain-mlogloss:0.29843\teval-mlogloss:0.34256\n",
      "[87]\ttrain-mlogloss:0.29798\teval-mlogloss:0.34250\n",
      "[88]\ttrain-mlogloss:0.29766\teval-mlogloss:0.34240\n",
      "[89]\ttrain-mlogloss:0.29722\teval-mlogloss:0.34225\n",
      "[90]\ttrain-mlogloss:0.29682\teval-mlogloss:0.34212\n",
      "[91]\ttrain-mlogloss:0.29632\teval-mlogloss:0.34200\n",
      "[92]\ttrain-mlogloss:0.29593\teval-mlogloss:0.34188\n",
      "[93]\ttrain-mlogloss:0.29562\teval-mlogloss:0.34189\n",
      "[94]\ttrain-mlogloss:0.29538\teval-mlogloss:0.34187\n",
      "[95]\ttrain-mlogloss:0.29516\teval-mlogloss:0.34184\n",
      "[96]\ttrain-mlogloss:0.29478\teval-mlogloss:0.34173\n",
      "[97]\ttrain-mlogloss:0.29454\teval-mlogloss:0.34172\n",
      "[98]\ttrain-mlogloss:0.29420\teval-mlogloss:0.34161\n",
      "[99]\ttrain-mlogloss:0.29378\teval-mlogloss:0.34150\n",
      "XGBoost accuracy is: 0.8833\n"
     ]
    }
   ],
   "source": [
    "# Convertir les données en format DMatrix pour XGBoost\n",
    "dtrain = xgb.DMatrix(X_train, label=y_train)\n",
    "dtest = xgb.DMatrix(X_test, label=y_test)\n",
    "\n",
    "# Définir les paramètres du modèle\n",
    "params = {\n",
    "    'objective': 'multi:softmax',  # classification multiclasse\n",
    "    'num_class': 5,  # nombre de classes dans la variable cible\n",
    "    'eval_metric': 'mlogloss',  # mesure de performance\n",
    "    'eta': 0.1,  # taux d'apprentissage\n",
    "    'max_depth': 10,  # profondeur maximale de l'arbre\n",
    "    'subsample': 0.8,  # proportion des échantillons utilisés pour l'entraînement de chaque arbre\n",
    "    'colsample_bytree': 0.8,  # proportion de variables utilisées pour l'entraînement de chaque arbre\n",
    "    'seed': 20 # graine pour la reproductibilité\n",
    "}\n",
    "\n",
    "# Diviser les données en ensembles d'entraînement et de validation\n",
    "evals = [(dtrain, 'train'), (dtest, 'eval')]\n",
    "\n",
    "# Entraîner le modèle XGBoost avec la possibilité d'évaluer les performances sur l'ensemble de validation\n",
    "num_round = 100\n",
    "xgb_model = xgb.train(params, dtrain, num_round, evals=evals, early_stopping_rounds=10, verbose_eval=True)\n",
    "\n",
    "# Prédire sur l'ensemble de test\n",
    "y_pred = xgb_model.predict(dtest)\n",
    "\n",
    "# Calculer l'accuracy\n",
    "accuracy = accuracy_score(y_test, y_pred)\n",
    "print(\"XGBoost accuracy is: {:.4f}\".format(accuracy))\n"
   ]
  },
  {
   "cell_type": "code",
   "execution_count": 301,
   "id": "3bacd5bc",
   "metadata": {},
   "outputs": [
    {
     "data": {
      "image/png": "[encoded data removed]",
      "text/plain": [
       "<Figure size 432x288 with 1 Axes>"
      ]
     },
     "metadata": {
      "needs_background": "light"
     },
     "output_type": "display_data"
    }
   ],
   "source": [
    "# Tracer l'importance des variables\n",
    "xgb.plot_importance(xgb_model, importance_type='weight', xlabel='Weight', ylabel='Features')\n",
    "plt.show()"
   ]
  },
  {
   "cell_type": "code",
   "execution_count": null,
   "id": "c36f349c",
   "metadata": {},
   "outputs": [],
   "source": []
  }
 ],
 "metadata": {
  "kernelspec": {
   "display_name": "Python 3 (ipykernel)",
   "language": "python",
   "name": "python3"
  },
  "language_info": {
   "codemirror_mode": {
    "name": "ipython",
    "version": 3
   },
   "file_extension": ".py",
   "mimetype": "text/x-python",
   "name": "python",
   "nbconvert_exporter": "python",
   "pygments_lexer": "ipython3",
   "version": "3.9.7"
  }
 },
 "nbformat": 4,
 "nbformat_minor": 5
}
